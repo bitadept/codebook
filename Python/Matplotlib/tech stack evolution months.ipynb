{
 "cells": [
  {
   "cell_type": "code",
   "execution_count": 1,
   "metadata": {},
   "outputs": [],
   "source": [
    "%matplotlib widget\n",
    "import matplotlib as mpl\n",
    "import matplotlib.pyplot as plt\n",
    "import numpy as np\n",
    "\n",
    "plt.style.use(['dark_background'])\n",
    "\n",
    "def new_subplt(nrows = 1, ncols = 1):\n",
    "    return plt.subplots(nrows, ncols)"
   ]
  },
  {
   "cell_type": "code",
   "execution_count": 2,
   "metadata": {},
   "outputs": [
    {
     "name": "stdout",
     "output_type": "stream",
     "text": [
      "{'tech1': {1: 6, 2: 6, 3: 0, 4: 8, 5: 7}, 'tech2': {1: 9, 2: 0, 3: 2, 4: 1, 5: 2}, 'tech3': {1: 1, 2: 4, 3: 6, 4: 9, 5: 8}, 'tech4': {1: 5, 2: 6, 3: 3, 4: 3, 5: 1}}\n"
     ]
    }
   ],
   "source": [
    "num_month_dict = {1: \"January\", 2: \"February\", 3: \"March\", 4: \"April\", 5: \"May\"}\n",
    "\n",
    "tech_names = [\"tech1\", \"tech2\", \"tech3\", \"tech4\"]\n",
    "\n",
    "tech_data = {k1: \n",
    "             {k2: np.random.randint(10) for k2 in num_month_dict.keys()} \n",
    "                 for k1 in tech_names}\n",
    "print(tech_data)\n",
    "\n",
    "        \n",
    "# fig, axe = new_subplt()\n",
    "# plt.yticks(month_names)\n",
    "# axe.scatter(group_data, month_names)"
   ]
  },
  {
   "cell_type": "code",
   "execution_count": null,
   "metadata": {},
   "outputs": [],
   "source": []
  }
 ],
 "metadata": {
  "kernelspec": {
   "display_name": "Python 3",
   "language": "python",
   "name": "python3"
  },
  "language_info": {
   "codemirror_mode": {
    "name": "ipython",
    "version": 3
   },
   "file_extension": ".py",
   "mimetype": "text/x-python",
   "name": "python",
   "nbconvert_exporter": "python",
   "pygments_lexer": "ipython3",
   "version": "3.7.0"
  }
 },
 "nbformat": 4,
 "nbformat_minor": 2
}
