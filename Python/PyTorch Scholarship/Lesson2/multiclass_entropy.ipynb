{
 "cells": [
  {
   "cell_type": "code",
   "execution_count": 1,
   "metadata": {},
   "outputs": [],
   "source": [
    "%matplotlib tk\n",
    "import matplotlib as mpl\n",
    "import matplotlib.pyplot as plt\n",
    "\n",
    "import numpy as np\n",
    "\n",
    "import math\n",
    "\n",
    "plt.style.use(['dark_background'])"
   ]
  },
  {
   "cell_type": "code",
   "execution_count": 7,
   "metadata": {},
   "outputs": [
    {
     "name": "stdout",
     "output_type": "stream",
     "text": [
      "Door 0 scores:\n",
      "duck score: 10\n",
      "beaver score: 36\n",
      "walrus score: 10\n",
      "Door 1 scores:\n",
      "duck score: 0\n",
      "beaver score: 8\n",
      "walrus score: -2\n",
      "Door 2 scores:\n",
      "duck score: 38\n",
      "beaver score: 22\n",
      "walrus score: -14\n"
     ]
    }
   ],
   "source": [
    "def linear_combination(x, y, W, bias):\n",
    "    return (W[0] * x + W[1] * y + bias)[0]\n",
    "\n",
    "W = np.array([[4], [2]])\n",
    "BIAS = 2\n",
    "\n",
    "# X[i] = door; Inputs: X[i][0] = duck, X[i][1] = beaver, X[i][2] = walrus\n",
    "X = np.array([\n",
    "    [[1, 2], [6, 5], [-2, 8]],\n",
    "    [[0, -1], [4, -5], [-2, 2]],\n",
    "    [[9, 0], [3, 4], [-6, 4]]\n",
    "])\n",
    "INDEX_ANIMAL_DICT = {0: 'duck', 1: 'beaver', 2: 'walrus'}\n",
    "\n",
    "for i, animals in enumerate(X):\n",
    "    print(f'Door {i} scores:')\n",
    "    for j, animal in enumerate(animals):\n",
    "        print(f'{INDEX_ANIMAL_DICT[j]} score: {linear_combination(animal[0], animal[1], W, BIAS)}')"
   ]
  },
  {
   "cell_type": "code",
   "execution_count": null,
   "metadata": {},
   "outputs": [],
   "source": []
  }
 ],
 "metadata": {
  "kernelspec": {
   "display_name": "Python 3",
   "language": "python",
   "name": "python3"
  },
  "language_info": {
   "codemirror_mode": {
    "name": "ipython",
    "version": 3
   },
   "file_extension": ".py",
   "mimetype": "text/x-python",
   "name": "python",
   "nbconvert_exporter": "python",
   "pygments_lexer": "ipython3",
   "version": "3.7.0"
  }
 },
 "nbformat": 4,
 "nbformat_minor": 2
}
