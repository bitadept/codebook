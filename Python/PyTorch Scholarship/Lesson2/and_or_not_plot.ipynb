{
 "cells": [
  {
   "cell_type": "code",
   "execution_count": 1,
   "metadata": {},
   "outputs": [],
   "source": [
    "%matplotlib widget\n",
    "import matplotlib as mpl\n",
    "import matplotlib.pyplot as plt\n",
    "import numpy as np\n",
    "\n",
    "plt.style.use(['dark_background'])"
   ]
  },
  {
   "cell_type": "code",
   "execution_count": 103,
   "metadata": {},
   "outputs": [
    {
     "data": {
      "application/vnd.jupyter.widget-view+json": {
       "model_id": "1d0893a334c8471ea347f0761bdb84e5",
       "version_major": 2,
       "version_minor": 0
      },
      "text/plain": [
       "FigureCanvasNbAgg()"
      ]
     },
     "metadata": {},
     "output_type": "display_data"
    },
    {
     "data": {
      "application/vnd.jupyter.widget-view+json": {
       "model_id": "c4cb8a0314464a38977017745a2fd48c",
       "version_major": 2,
       "version_minor": 0
      },
      "text/plain": [
       "FigureCanvasNbAgg()"
      ]
     },
     "metadata": {},
     "output_type": "display_data"
    },
    {
     "data": {
      "application/vnd.jupyter.widget-view+json": {
       "model_id": "70e5b3c9b5224f5db5b1e08c82a9b99d",
       "version_major": 2,
       "version_minor": 0
      },
      "text/plain": [
       "FigureCanvasNbAgg()"
      ]
     },
     "metadata": {},
     "output_type": "display_data"
    },
    {
     "data": {
      "text/plain": [
       "[<matplotlib.lines.Line2D at 0x23aedb879b0>]"
      ]
     },
     "execution_count": 103,
     "metadata": {},
     "output_type": "execute_result"
    }
   ],
   "source": [
    "WEIGHTS_AND = (1, 1)\n",
    "BIAS_AND = -1.25\n",
    "WEIGHTS_OR = (1, 1)\n",
    "BIAS_OR = -0.75\n",
    "WEIGHTS_NOT = (0, -1)\n",
    "BIAS_NOT = 0\n",
    "\n",
    "def linear_combination(x, y, bias, weights):\n",
    "    return weights[0] * x + weights[1] * y + bias\n",
    "def f(x, bias, weights):\n",
    "    return -((weights[0] * x + bias) / weights[1]) if weights[1] != 0 else weights[0] * x + bias\n",
    "\n",
    "inputs = [(0, 0), (0, 1), (1, 0), (1, 1)]\n",
    "boundary = np.linspace(1.5, -0.5, 2)\n",
    "\n",
    "# AND\n",
    "fig, axs = plt.subplots()\n",
    "fig.suptitle('AND classifier')\n",
    "for x, y in inputs:\n",
    "    axs.plot(x, y, 'bo') if linear_combination(x, y, BIAS_AND, WEIGHTS_AND) >= 0 else axs.plot(x, y, 'ro')\n",
    "axs.plot(boundary, f(boundary, BIAS_AND, WEIGHTS_AND))\n",
    "\n",
    "# OR\n",
    "fig, axs = plt.subplots()\n",
    "fig.suptitle('OR classifier')\n",
    "for x, y in inputs:\n",
    "    axs.plot(x, y, 'bo') if linear_combination(x, y, BIAS_OR, WEIGHTS_OR) >= 0 else axs.plot(x, y, 'ro')\n",
    "axs.plot(boundary, f(boundary, BIAS_OR, WEIGHTS_OR))\n",
    "\n",
    "# NOT\n",
    "fig, axs = plt.subplots()\n",
    "fig.suptitle('NOT classifier')\n",
    "for x, y in inputs:\n",
    "    # print(str(x) + ' ' + str(y) + ' ' + str(linear_combination(x, BIAS_NOT, WEIGHTS_NOT) < y))\n",
    "    axs.plot(x, y, 'bo') if linear_combination(x, y, BIAS_NOT, WEIGHTS_NOT) >= 0 else axs.plot(x, y, 'ro')\n",
    "axs.plot(boundary, f(boundary, BIAS_NOT, WEIGHTS_NOT))"
   ]
  },
  {
   "cell_type": "code",
   "execution_count": null,
   "metadata": {},
   "outputs": [],
   "source": []
  }
 ],
 "metadata": {
  "kernelspec": {
   "display_name": "Python 3",
   "language": "python",
   "name": "python3"
  },
  "language_info": {
   "codemirror_mode": {
    "name": "ipython",
    "version": 3
   },
   "file_extension": ".py",
   "mimetype": "text/x-python",
   "name": "python",
   "nbconvert_exporter": "python",
   "pygments_lexer": "ipython3",
   "version": "3.7.0"
  }
 },
 "nbformat": 4,
 "nbformat_minor": 2
}
