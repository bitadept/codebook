{
 "cells": [
  {
   "cell_type": "code",
   "execution_count": 1,
   "metadata": {},
   "outputs": [],
   "source": [
    "%matplotlib tk\n",
    "# %matplotlib widget\n",
    "import matplotlib as mpl\n",
    "import matplotlib.pyplot as plt\n",
    "\n",
    "import numpy as np\n",
    "\n",
    "from itertools import cycle\n",
    "\n",
    "import ipywidgets as widgets\n",
    "from IPython.display import display\n",
    "\n",
    "plt.style.use(['dark_background'])"
   ]
  },
  {
   "cell_type": "code",
   "execution_count": 46,
   "metadata": {},
   "outputs": [],
   "source": [
    "class Line:\n",
    "    def __init__(self, w1, w2, b):\n",
    "        self.w1 = w1\n",
    "        self.w2 = w2\n",
    "        self.b = b\n",
    "        \n",
    "    def __str__(self):\n",
    "        return f'{self.w1}*x {\"+ \" + str(self.w2) if self.w2 >= 0 else str(self.w2).replace(\"-\", \"- \")}*y {\"+ \" + str(self.b) if self.b >= 0 else str(self.b).replace(\"-\", \"- \")}'\n",
    "    \n",
    "    # calculate the linear combination of a point\n",
    "    def linear_comb(self, x, y):\n",
    "        return self.w1 * x + self.w2 * y + self.b\n",
    "    \n",
    "    # get the value of 'y' if we only know 'x'\n",
    "    def calculate(self, x):\n",
    "        return -((self.w1 * x + self.b) / self.w2) if self.w2 != 0 else self.w1 * x + self.b"
   ]
  },
  {
   "cell_type": "code",
   "execution_count": 47,
   "metadata": {},
   "outputs": [],
   "source": [
    "# The input params of the line that will be modified so that it correctly classifies the bad point\n",
    "LINE_W1, LINE_W2, LINE_B = 3, 4, -10\n",
    "\n",
    "# The point that shouldn't be here\n",
    "BAD_POINT = (-3, -3)\n",
    "POSITIVE_COLOR, NEGATIVE_COLOR = 'b', 'r' # blue for positive, red for negative\n",
    "MARKER = 'X'\n",
    "\n",
    "LEARNING_RATE = 0.1\n",
    "\n",
    "PLOT_PAUSE = 0.1"
   ]
  },
  {
   "cell_type": "code",
   "execution_count": 48,
   "metadata": {},
   "outputs": [
    {
     "name": "stdout",
     "output_type": "stream",
     "text": [
      "Input linear equation: 3*x + 4*y - 10\n",
      "-29.1 >= 0?  2.7*x + 3.7*y - 9.9\n",
      "-27.200000000000003 >= 0?  2.4000000000000004*x + 3.4000000000000004*y - 9.8\n",
      "-25.300000000000004 >= 0?  2.1000000000000005*x + 3.1000000000000005*y - 9.700000000000001\n",
      "-23.400000000000006 >= 0?  1.8000000000000005*x + 2.8000000000000007*y - 9.600000000000001\n",
      "-21.500000000000007 >= 0?  1.5000000000000004*x + 2.500000000000001*y - 9.500000000000002\n",
      "-19.60000000000001 >= 0?  1.2000000000000004*x + 2.200000000000001*y - 9.400000000000002\n",
      "-17.700000000000006 >= 0?  0.9000000000000004*x + 1.900000000000001*y - 9.300000000000002\n",
      "-15.800000000000006 >= 0?  0.6000000000000003*x + 1.600000000000001*y - 9.200000000000003\n",
      "-13.900000000000007 >= 0?  0.30000000000000027*x + 1.300000000000001*y - 9.100000000000003\n",
      "-12.000000000000007 >= 0?  2.220446049250313e-16*x + 1.0000000000000009*y - 9.000000000000004\n",
      "-10.100000000000007 >= 0?  -0.2999999999999998*x + 0.7000000000000008*y - 8.900000000000004\n",
      "-8.200000000000006 >= 0?  -0.5999999999999999*x + 0.4000000000000008*y - 8.800000000000004\n",
      "-6.300000000000007 >= 0?  -0.8999999999999999*x + 0.10000000000000075*y - 8.700000000000005\n",
      "-4.4000000000000075 >= 0?  -1.2*x - 0.1999999999999993*y - 8.600000000000005\n",
      "-2.500000000000007 >= 0?  -1.5*x - 0.49999999999999933*y - 8.500000000000005\n",
      "-0.6000000000000068 >= 0?  -1.8*x - 0.7999999999999994*y - 8.400000000000006\n",
      "1.2999999999999918 >= 0?  -2.1*x - 1.0999999999999994*y - 8.300000000000006\n",
      "New linear equation: -2.1*x - 1.0999999999999994*y - 8.300000000000006\n"
     ]
    }
   ],
   "source": [
    "# Create figure\n",
    "fig, axs = plt.subplots()\n",
    "axs.set_xlabel('X')\n",
    "axs.set_ylabel('y')\n",
    "axs.set_xlim(-50, 50)\n",
    "axs.set_ylim(-50, 50)\n",
    "    \n",
    "# Create the line equation\n",
    "line = Line(LINE_W1, LINE_W2, LINE_B)\n",
    "print('Input linear equation: ' + str(line))\n",
    "\n",
    "# Plot the bad point and set its marker\n",
    "bp_colors = cycle((POSITIVE_COLOR, NEGATIVE_COLOR))\n",
    "bp_marker = next(bp_colors)\n",
    "bp_marker = bp_marker if line.linear_comb(BAD_POINT[0], BAD_POINT[1]) < 0 else next(bp_colors)\n",
    "bad_point_plt = axs.plot(BAD_POINT[0], BAD_POINT[1], bp_marker + MARKER)\n",
    "\n",
    "# Plot the initial line\n",
    "line_coords = np.array([-50, 50])\n",
    "axs.plot(line_coords, line.calculate(line_coords), color = 'cyan') # original line\n",
    "\n",
    "# Change the properties of the line so that the bad point is under it\n",
    "bad_point_lr = [BAD_POINT[0] * LEARNING_RATE, BAD_POINT[1] * LEARNING_RATE] # the coords of the bad point adjusted by learning rate\n",
    "koeff = (-1 if bp_marker == NEGATIVE_COLOR else 1) \n",
    "while(True):\n",
    "    # Update the line\n",
    "    line.w1 += (bad_point_lr[0] * koeff)\n",
    "    line.w2 += (bad_point_lr[1] * koeff)\n",
    "    line.b += (LEARNING_RATE * koeff)\n",
    "    # move the correction line\n",
    "    corrected_line = axs.plot(line_coords, line.calculate(line_coords), color = 'green', alpha=0.4)[0]\n",
    "    plt.pause(PLOT_PAUSE)\n",
    "    print(str(koeff * line.linear_comb(BAD_POINT[0], BAD_POINT[1])) + ' >= 0? ', line)\n",
    "    if(koeff * line.linear_comb(BAD_POINT[0], BAD_POINT[1]) >= 0): # Found the right equation, break\n",
    "        corrected_line.set_alpha(1)\n",
    "        break\n",
    "    corrected_line.remove()\n",
    "\n",
    "print('New linear equation: ' + str(line))"
   ]
  },
  {
   "cell_type": "code",
   "execution_count": null,
   "metadata": {},
   "outputs": [],
   "source": []
  }
 ],
 "metadata": {
  "kernelspec": {
   "display_name": "Python 3",
   "language": "python",
   "name": "python3"
  },
  "language_info": {
   "codemirror_mode": {
    "name": "ipython",
    "version": 3
   },
   "file_extension": ".py",
   "mimetype": "text/x-python",
   "name": "python",
   "nbconvert_exporter": "python",
   "pygments_lexer": "ipython3",
   "version": "3.7.0"
  }
 },
 "nbformat": 4,
 "nbformat_minor": 2
}
