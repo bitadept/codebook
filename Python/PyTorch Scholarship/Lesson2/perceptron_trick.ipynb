{
 "cells": [
  {
   "cell_type": "code",
   "execution_count": 1,
   "metadata": {},
   "outputs": [],
   "source": [
    "%matplotlib tk\n",
    "# %matplotlib widget\n",
    "import matplotlib as mpl\n",
    "import matplotlib.pyplot as plt\n",
    "\n",
    "import numpy as np\n",
    "\n",
    "from itertools import cycle\n",
    "\n",
    "import ipywidgets as widgets\n",
    "from IPython.display import display\n",
    "\n",
    "plt.style.use(['dark_background'])"
   ]
  },
  {
   "cell_type": "code",
   "execution_count": 2,
   "metadata": {},
   "outputs": [],
   "source": [
    "class Line:\n",
    "    def __init__(self, w1, w2, b):\n",
    "        self.w1 = w1\n",
    "        self.w2 = w2\n",
    "        self.b = b\n",
    "        \n",
    "    def __str__(self):\n",
    "        return f'{self.w1}*x {\"+ \" + str(self.w2) if self.w2 >= 0 else str(self.w2).replace(\"-\", \"- \")}*y {\"+ \" + str(self.b) if self.b >= 0 else str(self.b).replace(\"-\", \"- \")} = 0'\n",
    "    \n",
    "    # calculate the linear combination of a point\n",
    "    def linear_comb(self, x, y):\n",
    "        return self.w1 * x + self.w2 * y + self.b\n",
    "    \n",
    "    # get the value of 'y' if we only know 'x'\n",
    "    def calculate(self, x):\n",
    "        return -((self.w1 * x + self.b) / self.w2) if self.w2 != 0 else self.w1 * x + self.b"
   ]
  },
  {
   "cell_type": "code",
   "execution_count": 33,
   "metadata": {},
   "outputs": [],
   "source": [
    "# The input params of the line that will be modified so that it correctly classifies the bad point\n",
    "LINE_W1, LINE_W2, LINE_B = 3, 4, -10\n",
    "\n",
    "# The point that shouldn't be here\n",
    "BAD_POINT = (1, 1)\n",
    "POSITIVE_COLOR, NEGATIVE_COLOR = 'b', 'r' # blue for positive, red for negative\n",
    "MARKER = 'X'\n",
    "\n",
    "LEARNING_RATE = 0.1\n",
    "\n",
    "PLOT_PAUSE = 0.1"
   ]
  },
  {
   "cell_type": "code",
   "execution_count": 34,
   "metadata": {},
   "outputs": [
    {
     "name": "stdout",
     "output_type": "stream",
     "text": [
      "Input linear equation: 3*x + 4*y - 10 = 0\n",
      "-2.700000000000001 >= 0?\n",
      "-2.200000000000001 >= 0?\n",
      "-1.5000000000000018 >= 0?\n",
      "-0.6000000000000014 >= 0?\n",
      "0.4999999999999982 >= 0?\n",
      "New linear equation: 4.500000000000001*x + 5.5*y - 9.500000000000002 = 0\n"
     ]
    }
   ],
   "source": [
    "# Create ure\n",
    "fig, axs = plt.subplots()\n",
    "    \n",
    "# Create the line equation\n",
    "line = Line(LINE_W1, LINE_W2, LINE_B)\n",
    "print('Input linear equation: ' + str(line))\n",
    "\n",
    "# Plot the bad point and set its marker\n",
    "bp_colors = cycle((POSITIVE_COLOR, NEGATIVE_COLOR))\n",
    "bp_marker = next(bp_colors)\n",
    "bp_marker = bp_marker if line.linear_comb(BAD_POINT[0], BAD_POINT[1]) < 0 else next(bp_colors)\n",
    "bad_point_plt = axs.plot(BAD_POINT[0], BAD_POINT[1], bp_marker + MARKER)[0]\n",
    "\n",
    "# Plot the initial line\n",
    "line_coords = np.array([BAD_POINT[0] + 1, -BAD_POINT[0]])\n",
    "axs.plot(line_coords, line.calculate(line_coords), color = 'cyan') # original line\n",
    "\n",
    "# Change the properties of the line so that the bad point is under it\n",
    "bad_point_lr = [BAD_POINT[0] * LEARNING_RATE, BAD_POINT[1] * LEARNING_RATE] # the coords of the bad point adjusted by learning rate\n",
    "koeff = (-1 if bp_marker == NEGATIVE_COLOR else 1) \n",
    "while(True):\n",
    "    # Update the line\n",
    "    line.w1 += bad_point_lr[0] * koeff\n",
    "    line.w2 += bad_point_lr[1] * koeff\n",
    "    line.b += LEARNING_RATE * koeff\n",
    "    # move the correction line\n",
    "    corrected_line = axs.plot(line_coords, line.calculate(line_coords), color = 'green', alpha=0.4)[0]\n",
    "    plt.pause(PLOT_PAUSE)\n",
    "    print(str(koeff * line.linear_comb(BAD_POINT[0], BAD_POINT[1])) + ' >= 0?')\n",
    "    if(koeff * line.linear_comb(BAD_POINT[0], BAD_POINT[1]) >= 0): # Found the right equation, break\n",
    "        corrected_line.set_alpha(1)\n",
    "        break\n",
    "    corrected_line.remove()\n",
    "    # Update the adjusted bad point coords\n",
    "    bad_point_lr = [bad_point_lr[0] + LEARNING_RATE, bad_point_lr[1] + LEARNING_RATE] \n",
    "\n",
    "print('New linear equation: ' + str(line))"
   ]
  },
  {
   "cell_type": "code",
   "execution_count": null,
   "metadata": {},
   "outputs": [],
   "source": []
  }
 ],
 "metadata": {
  "kernelspec": {
   "display_name": "Python 3",
   "language": "python",
   "name": "python3"
  },
  "language_info": {
   "codemirror_mode": {
    "name": "ipython",
    "version": 3
   },
   "file_extension": ".py",
   "mimetype": "text/x-python",
   "name": "python",
   "nbconvert_exporter": "python",
   "pygments_lexer": "ipython3",
   "version": "3.7.0"
  }
 },
 "nbformat": 4,
 "nbformat_minor": 2
}
