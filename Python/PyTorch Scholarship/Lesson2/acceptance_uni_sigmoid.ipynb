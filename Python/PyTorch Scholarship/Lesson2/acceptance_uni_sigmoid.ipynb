{
 "cells": [
  {
   "cell_type": "code",
   "execution_count": 54,
   "metadata": {},
   "outputs": [],
   "source": [
    "%matplotlib tk\n",
    "import matplotlib as mpl\n",
    "import matplotlib.pyplot as plt\n",
    "\n",
    "import numpy as np\n",
    "\n",
    "import math\n",
    "\n",
    "plt.style.use(['dark_background'])"
   ]
  },
  {
   "cell_type": "code",
   "execution_count": 55,
   "metadata": {},
   "outputs": [],
   "source": [
    "def sigmoid(x):\n",
    "    return 1 / (1 + math.e ** -x)\n",
    "\n",
    "def linear_combination(x, y, W, bias):\n",
    "    return (W[0] * x + W[1] * y + bias)[0]"
   ]
  },
  {
   "cell_type": "code",
   "execution_count": 68,
   "metadata": {},
   "outputs": [],
   "source": [
    "# Weights and Bias\n",
    "W = np.array([[4], [5]])\n",
    "BIAS = -9\n",
    "\n",
    "# Student data\n",
    "X = np.array([[1, 1], [0, 2], [-2, 3], [0, 1], [-4, 5], [2, 2]])"
   ]
  },
  {
   "cell_type": "code",
   "execution_count": 78,
   "metadata": {},
   "outputs": [
    {
     "name": "stdout",
     "output_type": "stream",
     "text": [
      "Accuracy of this model: 0.15806366409719114\n",
      "Cross entropy of this model: 1.844757389788619\n"
     ]
    }
   ],
   "source": [
    "fig, axs = plt.subplots()\n",
    "\n",
    "predictions = []\n",
    "probabilities = []\n",
    "\n",
    "for x, y in X:\n",
    "    lin_comb = linear_combination(x, y, W, BIAS)\n",
    "    pred = lin_comb >= 0\n",
    "    prob = sigmoid(lin_comb)\n",
    "    predictions.append(pred)\n",
    "    probabilities.append(prob)\n",
    "    p = axs.plot(x, y, ('b' if pred else 'r') + '.')\n",
    "    axs.annotate(s = f'({round(prob, 2)})', xy = (x, y), xytext = (x - 0.25, y + 0.25))\n",
    "    \n",
    "# plot the line\n",
    "xmin, xmax = min(X.T[0]), max(X.T[0])\n",
    "ymin, ymax = -((W[0][0] * xmin + BIAS) / W[1][0]), -((W[0][0] * xmax + BIAS) / W[1][0])\n",
    "axs.plot([xmin, xmax], [ymin, ymax], 'w')\n",
    "\n",
    "# Calculate the accuracy of this model and cross entropy\n",
    "accuracy = 1\n",
    "cross_entropy = 0\n",
    "for pred, prob in zip(predictions, probabilities):\n",
    "    prob = (prob if pred else 1 - prob)\n",
    "    accuracy *= prob\n",
    "    cross_entropy += -math.log(prob)\n",
    "print('Accuracy of this model:', accuracy)\n",
    "print('Cross entropy of this model:', cross_entropy)"
   ]
  },
  {
   "cell_type": "code",
   "execution_count": null,
   "metadata": {},
   "outputs": [],
   "source": []
  }
 ],
 "metadata": {
  "kernelspec": {
   "display_name": "Python 3",
   "language": "python",
   "name": "python3"
  },
  "language_info": {
   "codemirror_mode": {
    "name": "ipython",
    "version": 3
   },
   "file_extension": ".py",
   "mimetype": "text/x-python",
   "name": "python",
   "nbconvert_exporter": "python",
   "pygments_lexer": "ipython3",
   "version": "3.7.0"
  }
 },
 "nbformat": 4,
 "nbformat_minor": 2
}
