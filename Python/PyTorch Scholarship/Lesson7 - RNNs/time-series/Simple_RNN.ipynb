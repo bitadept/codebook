{
 "cells": [
  {
   "cell_type": "markdown",
   "metadata": {},
   "source": [
    "# Simple RNN\n",
    "\n",
    "In ths notebook, we're going to train a simple RNN to do **time-series prediction**. Given some set of input data, it should be able to generate a prediction for the next time step!\n",
    "<img src='assets/time_prediction.png' width=40% />\n",
    "\n",
    "> * First, we'll create our data\n",
    "* Then, define an RNN in PyTorch\n",
    "* Finally, we'll train our network and see how it performs"
   ]
  },
  {
   "cell_type": "markdown",
   "metadata": {},
   "source": [
    "### Import resources and create data "
   ]
  },
  {
   "cell_type": "code",
   "execution_count": 1,
   "metadata": {
    "collapsed": true
   },
   "outputs": [],
   "source": [
    "import torch\n",
    "from torch import nn\n",
    "import numpy as np\n",
    "import matplotlib.pyplot as plt\n",
    "plt.style.use('dark_background')\n",
    "%matplotlib inline"
   ]
  },
  {
   "cell_type": "code",
   "execution_count": 2,
   "metadata": {},
   "outputs": [
    {
     "data": {
      "image/png": "[encoded data removed]",
      "text/plain": [
       "<Figure size 576x360 with 1 Axes>"
      ]
     },
     "metadata": {
      "needs_background": "dark"
     },
     "output_type": "display_data"
    }
   ],
   "source": [
    "plt.figure(figsize=(8,5))\n",
    "\n",
    "# how many time steps/data pts are in one batch of data\n",
    "seq_length = 20\n",
    "\n",
    "# generate evenly spaced data pts\n",
    "time_steps = np.linspace(0, np.pi, seq_length + 1)\n",
    "data = np.sin(time_steps)\n",
    "data.resize((seq_length + 1, 1)) # size becomes (seq_length+1, 1), adds an input_size dimension\n",
    "\n",
    "x = data[:-1] # all but the last piece of data\n",
    "y = data[1:] # all but the first\n",
    "\n",
    "# display the data\n",
    "plt.plot(time_steps[1:], x, 'r.', label='input, x') # x\n",
    "plt.plot(time_steps[1:], y, 'b.', label='target, y') # y\n",
    "\n",
    "plt.legend(loc='best')\n",
    "plt.show()"
   ]
  },
  {
   "cell_type": "markdown",
   "metadata": {},
   "source": [
    "---\n",
    "## Define the RNN\n",
    "\n",
    "Next, we define an RNN in PyTorch. We'll use `nn.RNN` to create an RNN layer, then we'll add a last, fully-connected layer to get the output size that we want. An RNN takes in a number of parameters:\n",
    "* **input_size** - the size of the input\n",
    "* **hidden_dim** - the number of features in the RNN output and in the hidden state\n",
    "* **n_layers** - the number of layers that make up the RNN, typically 1-3; greater than 1 means that you'll create a stacked RNN\n",
    "* **batch_first** - whether or not the input/output of the RNN will have the batch_size as the first dimension (batch_size, seq_length, hidden_dim)\n",
    "\n",
    "Take a look at the [RNN documentation](https://pytorch.org/docs/stable/nn.html#rnn) to read more about recurrent layers."
   ]
  },
  {
   "cell_type": "code",
   "execution_count": 3,
   "metadata": {
    "collapsed": true
   },
   "outputs": [],
   "source": [
    "class RNN(nn.Module):\n",
    "    def __init__(self, input_size, output_size, hidden_dim, n_layers):\n",
    "        super(RNN, self).__init__()\n",
    "        \n",
    "        self.hidden_dim=hidden_dim\n",
    "\n",
    "        # define an RNN with specified parameters\n",
    "        # batch_first means that the first dim of the input and output will be the batch_size\n",
    "        self.rnn = nn.RNN(input_size, hidden_dim, n_layers, batch_first=True)\n",
    "        \n",
    "        # last, fully-connected layer\n",
    "        self.fc = nn.Linear(hidden_dim, output_size)\n",
    "\n",
    "    def forward(self, x, hidden):\n",
    "        # x (batch_size, seq_length, input_size)\n",
    "        # hidden (n_layers, batch_size, hidden_dim)\n",
    "        # r_out (batch_size, time_step, hidden_size)\n",
    "        batch_size = x.size(0)\n",
    "        \n",
    "        # get RNN outputs\n",
    "        r_out, hidden = self.rnn(x, hidden)\n",
    "        # shape output to be (batch_size*seq_length, hidden_dim)\n",
    "        r_out = r_out.view(-1, self.hidden_dim)  \n",
    "        \n",
    "        # get final output \n",
    "        output = self.fc(r_out)\n",
    "        \n",
    "        return output, hidden\n"
   ]
  },
  {
   "cell_type": "markdown",
   "metadata": {},
   "source": [
    "### Check the input and output dimensions\n",
    "\n",
    "As a check that your model is working as expected, test out how it responds to input data."
   ]
  },
  {
   "cell_type": "code",
   "execution_count": 4,
   "metadata": {},
   "outputs": [
    {
     "name": "stdout",
     "output_type": "stream",
     "text": [
      "Input size:  torch.Size([1, 20, 1])\n",
      "Output size:  torch.Size([20, 1])\n",
      "Hidden state size:  torch.Size([2, 1, 10])\n"
     ]
    }
   ],
   "source": [
    "# test that dimensions are as expected\n",
    "test_rnn = RNN(input_size=1, output_size=1, hidden_dim=10, n_layers=2)\n",
    "\n",
    "# generate evenly spaced, test data pts\n",
    "time_steps = np.linspace(0, np.pi, seq_length)\n",
    "data = np.sin(time_steps)\n",
    "data.resize((seq_length, 1))\n",
    "\n",
    "test_input = torch.Tensor(data).unsqueeze(0) # give it a batch_size of 1 as first dimension\n",
    "print('Input size: ', test_input.size())\n",
    "\n",
    "# test out rnn sizes\n",
    "test_out, test_h = test_rnn(test_input, None)\n",
    "print('Output size: ', test_out.size())\n",
    "print('Hidden state size: ', test_h.size())"
   ]
  },
  {
   "cell_type": "markdown",
   "metadata": {},
   "source": [
    "---\n",
    "## Training the RNN\n",
    "\n",
    "Next, we'll instantiate an RNN with some specified hyperparameters. Then train it over a series of steps, and see how it performs."
   ]
  },
  {
   "cell_type": "code",
   "execution_count": 5,
   "metadata": {},
   "outputs": [
    {
     "name": "stdout",
     "output_type": "stream",
     "text": [
      "RNN(\n",
      "  (rnn): RNN(1, 32, batch_first=True)\n",
      "  (fc): Linear(in_features=32, out_features=1, bias=True)\n",
      ")\n"
     ]
    }
   ],
   "source": [
    "# decide on hyperparameters\n",
    "input_size=1 \n",
    "output_size=1\n",
    "hidden_dim=32\n",
    "n_layers=1\n",
    "\n",
    "# instantiate an RNN\n",
    "rnn = RNN(input_size, output_size, hidden_dim, n_layers)\n",
    "print(rnn)"
   ]
  },
  {
   "cell_type": "markdown",
   "metadata": {},
   "source": [
    "### Loss and Optimization\n",
    "\n",
    "This is a regression problem: can we train an RNN to accurately predict the next data point, given a current data point?\n",
    "\n",
    ">* The data points are coordinate values, so to compare a predicted and ground_truth point, we'll use a regression loss: the mean squared error.\n",
    "* It's typical to use an Adam optimizer for recurrent models."
   ]
  },
  {
   "cell_type": "code",
   "execution_count": 6,
   "metadata": {
    "collapsed": true
   },
   "outputs": [],
   "source": [
    "# MSE loss and Adam optimizer with a learning rate of 0.01\n",
    "criterion = nn.MSELoss()\n",
    "optimizer = torch.optim.Adam(rnn.parameters(), lr=0.01) "
   ]
  },
  {
   "cell_type": "markdown",
   "metadata": {},
   "source": [
    "### Defining the training function\n",
    "\n",
    "This function takes in an rnn, a number of steps to train for, and returns a trained rnn. This function is also responsible for displaying the loss and the predictions, every so often.\n",
    "\n",
    "#### Hidden State\n",
    "\n",
    "Pay close attention to the hidden state, here:\n",
    "* Before looping over a batch of training data, the hidden state is initialized\n",
    "* After a new hidden state is generated by the rnn, we get the latest hidden state, and use that as input to the rnn for the following steps"
   ]
  },
  {
   "cell_type": "code",
   "execution_count": 7,
   "metadata": {
    "collapsed": true
   },
   "outputs": [],
   "source": [
    "# train the RNN\n",
    "def train(rnn, n_steps, print_every):\n",
    "    \n",
    "    # initialize the hidden state\n",
    "    hidden = None      \n",
    "    \n",
    "    for batch_i, step in enumerate(range(n_steps)):\n",
    "        # defining the training data \n",
    "        time_steps = np.linspace(step * np.pi, (step+1)*np.pi, seq_length + 1)\n",
    "        data = np.sin(time_steps)\n",
    "        data.resize((seq_length + 1, 1)) # input_size=1\n",
    "\n",
    "        x = data[:-1]\n",
    "        y = data[1:]\n",
    "        \n",
    "        # convert data into Tensors\n",
    "        x_tensor = torch.Tensor(x).unsqueeze(0) # unsqueeze gives a 1, batch_size dimension\n",
    "        y_tensor = torch.Tensor(y)\n",
    "\n",
    "        # outputs from the rnn\n",
    "        prediction, hidden = rnn(x_tensor, hidden)\n",
    "\n",
    "        ## Representing Memory ##\n",
    "        # make a new variable for hidden and detach the hidden state from its history\n",
    "        # this way, we don't backpropagate through the entire history\n",
    "        hidden = hidden.data\n",
    "\n",
    "        # calculate the loss\n",
    "        loss = criterion(prediction, y_tensor)\n",
    "        # zero gradients\n",
    "        optimizer.zero_grad()\n",
    "        # perform backprop and update weights\n",
    "        loss.backward()\n",
    "        optimizer.step()\n",
    "\n",
    "        # display loss and predictions\n",
    "        if batch_i%print_every == 0:        \n",
    "            print('Loss: ', loss.item())\n",
    "            print(x)\n",
    "            plt.plot(time_steps[1:], x, 'r.') # input\n",
    "            plt.plot(time_steps[1:], prediction.data.numpy().flatten(), 'b.') # predictions\n",
    "            plt.show()\n",
    "    \n",
    "    return rnn\n"
   ]
  },
  {
   "cell_type": "code",
   "execution_count": 8,
   "metadata": {},
   "outputs": [
    {
     "name": "stdout",
     "output_type": "stream",
     "text": [
      "Loss:  0.2643544375896454\n",
      "[[0.        ]\n",
      " [0.15643447]\n",
      " [0.30901699]\n",
      " [0.4539905 ]\n",
      " [0.58778525]\n",
      " [0.70710678]\n",
      " [0.80901699]\n",
      " [0.89100652]\n",
      " [0.95105652]\n",
      " [0.98768834]\n",
      " [1.        ]\n",
      " [0.98768834]\n",
      " [0.95105652]\n",
      " [0.89100652]\n",
      " [0.80901699]\n",
      " [0.70710678]\n",
      " [0.58778525]\n",
      " [0.4539905 ]\n",
      " [0.30901699]\n",
      " [0.15643447]]\n"
     ]
    },
    {
     "data": {
      "image/png": "[encoded data removed]",
      "text/plain": [
       "<Figure size 432x288 with 1 Axes>"
      ]
     },
     "metadata": {
      "needs_background": "dark"
     },
     "output_type": "display_data"
    },
    {
     "name": "stdout",
     "output_type": "stream",
     "text": [
      "Loss:  0.015468968078494072\n",
      "[[ 5.38968388e-15]\n",
      " [-1.56434465e-01]\n",
      " [-3.09016994e-01]\n",
      " [-4.53990500e-01]\n",
      " [-5.87785252e-01]\n",
      " [-7.07106781e-01]\n",
      " [-8.09016994e-01]\n",
      " [-8.91006524e-01]\n",
      " [-9.51056516e-01]\n",
      " [-9.87688341e-01]\n",
      " [-1.00000000e+00]\n",
      " [-9.87688341e-01]\n",
      " [-9.51056516e-01]\n",
      " [-8.91006524e-01]\n",
      " [-8.09016994e-01]\n",
      " [-7.07106781e-01]\n",
      " [-5.87785252e-01]\n",
      " [-4.53990500e-01]\n",
      " [-3.09016994e-01]\n",
      " [-1.56434465e-01]]\n"
     ]
    },
    {
     "data": {
      "image/png": "[encoded data removed]",
      "text/plain": [
       "<Figure size 432x288 with 1 Axes>"
      ]
     },
     "metadata": {
      "needs_background": "dark"
     },
     "output_type": "display_data"
    },
    {
     "name": "stdout",
     "output_type": "stream",
     "text": [
      "Loss:  0.0012205253588035703\n",
      "[[-1.07793678e-14]\n",
      " [ 1.56434465e-01]\n",
      " [ 3.09016994e-01]\n",
      " [ 4.53990500e-01]\n",
      " [ 5.87785252e-01]\n",
      " [ 7.07106781e-01]\n",
      " [ 8.09016994e-01]\n",
      " [ 8.91006524e-01]\n",
      " [ 9.51056516e-01]\n",
      " [ 9.87688341e-01]\n",
      " [ 1.00000000e+00]\n",
      " [ 9.87688341e-01]\n",
      " [ 9.51056516e-01]\n",
      " [ 8.91006524e-01]\n",
      " [ 8.09016994e-01]\n",
      " [ 7.07106781e-01]\n",
      " [ 5.87785252e-01]\n",
      " [ 4.53990500e-01]\n",
      " [ 3.09016994e-01]\n",
      " [ 1.56434465e-01]]\n"
     ]
    },
    {
     "data": {
      "image/png": "[encoded data removed]",
      "text/plain": [
       "<Figure size 432x288 with 1 Axes>"
      ]
     },
     "metadata": {
      "needs_background": "dark"
     },
     "output_type": "display_data"
    },
    {
     "name": "stdout",
     "output_type": "stream",
     "text": [
      "Loss:  0.0034228952135890722\n",
      "[[ 1.95819692e-15]\n",
      " [-1.56434465e-01]\n",
      " [-3.09016994e-01]\n",
      " [-4.53990500e-01]\n",
      " [-5.87785252e-01]\n",
      " [-7.07106781e-01]\n",
      " [-8.09016994e-01]\n",
      " [-8.91006524e-01]\n",
      " [-9.51056516e-01]\n",
      " [-9.87688341e-01]\n",
      " [-1.00000000e+00]\n",
      " [-9.87688341e-01]\n",
      " [-9.51056516e-01]\n",
      " [-8.91006524e-01]\n",
      " [-8.09016994e-01]\n",
      " [-7.07106781e-01]\n",
      " [-5.87785252e-01]\n",
      " [-4.53990500e-01]\n",
      " [-3.09016994e-01]\n",
      " [-1.56434465e-01]]\n"
     ]
    },
    {
     "data": {
      "image/png": "[encoded data removed]",
      "text/plain": [
       "<Figure size 432x288 with 1 Axes>"
      ]
     },
     "metadata": {
      "needs_background": "dark"
     },
     "output_type": "display_data"
    },
    {
     "name": "stdout",
     "output_type": "stream",
     "text": [
      "Loss:  0.001460530562326312\n",
      "[[-2.15587355e-14]\n",
      " [ 1.56434465e-01]\n",
      " [ 3.09016994e-01]\n",
      " [ 4.53990500e-01]\n",
      " [ 5.87785252e-01]\n",
      " [ 7.07106781e-01]\n",
      " [ 8.09016994e-01]\n",
      " [ 8.91006524e-01]\n",
      " [ 9.51056516e-01]\n",
      " [ 9.87688341e-01]\n",
      " [ 1.00000000e+00]\n",
      " [ 9.87688341e-01]\n",
      " [ 9.51056516e-01]\n",
      " [ 8.91006524e-01]\n",
      " [ 8.09016994e-01]\n",
      " [ 7.07106781e-01]\n",
      " [ 5.87785252e-01]\n",
      " [ 4.53990500e-01]\n",
      " [ 3.09016994e-01]\n",
      " [ 1.56434465e-01]]\n"
     ]
    },
    {
     "data": {
      "image/png": "[encoded data removed]",
      "text/plain": [
       "<Figure size 432x288 with 1 Axes>"
      ]
     },
     "metadata": {
      "needs_background": "dark"
     },
     "output_type": "display_data"
    }
   ],
   "source": [
    "# train the rnn and monitor results\n",
    "n_steps = 75\n",
    "print_every = 15\n",
    "\n",
    "trained_rnn = train(rnn, n_steps, print_every)"
   ]
  },
  {
   "cell_type": "markdown",
   "metadata": {},
   "source": [
    "### Time-Series Prediction\n",
    "\n",
    "Time-series prediction can be applied to many tasks. Think about weather forecasting or predicting the ebb and flow of stock market prices. You can even try to generate predictions much further in the future than just one time step!"
   ]
  },
  {
   "cell_type": "code",
   "execution_count": 61,
   "metadata": {},
   "outputs": [
    {
     "name": "stdout",
     "output_type": "stream",
     "text": [
      "RNN(\n",
      "  (rnn): RNN(1, 32, batch_first=True)\n",
      "  (fc): Linear(in_features=32, out_features=1, bias=True)\n",
      ")\n",
      "Loss:  542.8982543945312\n",
      "input:  tensor([ 0.,  2.,  4.,  6.,  8., 10., 12., 14., 16., 18., 20., 22., 24., 26.,\n",
      "        28., 30., 32., 34., 36., 38.], device='cuda:0')\n",
      "predictions: [0, 0, 1, 1, 1, 1, 1, 1, 1, 1, 1, 1, 1, 1, 1, 1, 1, 1, 1, 1]\n",
      "\n",
      "Loss:  562.53515625\n",
      "input:  tensor([ 1.,  3.,  5.,  7.,  9., 11., 13., 15., 17., 19., 21., 23., 25., 27.,\n",
      "        29., 31., 33., 35., 37., 39.], device='cuda:0')\n",
      "predictions: [1, 1, 1, 1, 1, 1, 1, 1, 1, 1, 1, 1, 1, 1, 1, 1, 1, 1, 1, 1]\n",
      "\n",
      "Loss:  123.6104507446289\n",
      "input:  tensor([ 0.,  2.,  4.,  6.,  8., 10., 12., 14., 16., 18., 20., 22., 24., 26.,\n",
      "        28., 30., 32., 34., 36., 38.], device='cuda:0')\n",
      "predictions: [13, 22, 21, 26, 26, 28, 28, 29, 30, 30, 30, 31, 31, 31, 31, 31, 31, 31, 31, 31]\n",
      "\n",
      "Loss:  110.17927551269531\n",
      "input:  tensor([ 1.,  3.,  5.,  7.,  9., 11., 13., 15., 17., 19., 21., 23., 25., 27.,\n",
      "        29., 31., 33., 35., 37., 39.], device='cuda:0')\n",
      "predictions: [13, 23, 22, 26, 26, 28, 28, 29, 30, 30, 30, 31, 31, 31, 31, 31, 31, 31, 31, 31]\n",
      "\n",
      "Loss:  54.73646926879883\n",
      "input:  tensor([ 0.,  2.,  4.,  6.,  8., 10., 12., 14., 16., 18., 20., 22., 24., 26.,\n",
      "        28., 30., 32., 34., 36., 38.], device='cuda:0')\n",
      "predictions: [2, 10, 6, 13, 15, 19, 23, 25, 27, 29, 31, 34, 36, 37, 39, 40, 41, 42, 43, 44]\n",
      "\n",
      "Loss:  42.63257598876953\n",
      "input:  tensor([ 1.,  3.,  5.,  7.,  9., 11., 13., 15., 17., 19., 21., 23., 25., 27.,\n",
      "        29., 31., 33., 35., 37., 39.], device='cuda:0')\n",
      "predictions: [-3, 12, 9, 14, 16, 20, 23, 26, 27, 29, 31, 33, 35, 37, 38, 39, 40, 41, 42, 43]\n",
      "\n",
      "Loss:  20.64607810974121\n",
      "input:  tensor([ 0.,  2.,  4.,  6.,  8., 10., 12., 14., 16., 18., 20., 22., 24., 26.,\n",
      "        28., 30., 32., 34., 36., 38.], device='cuda:0')\n",
      "predictions: [2, 1, 5, 7, 11, 14, 16, 18, 20, 21, 22, 23, 24, 25, 26, 28, 30, 34, 46, 56]\n",
      "\n",
      "Loss:  32.33148956298828\n",
      "input:  tensor([ 1.,  3.,  5.,  7.,  9., 11., 13., 15., 17., 19., 21., 23., 25., 27.,\n",
      "        29., 31., 33., 35., 37., 39.], device='cuda:0')\n",
      "predictions: [-7, -1, 6, 9, 13, 15, 17, 19, 20, 21, 22, 23, 24, 25, 27, 29, 31, 37, 50, 58]\n",
      "\n",
      "Loss:  0.2121947705745697\n",
      "input:  tensor([ 0.,  2.,  4.,  6.,  8., 10., 12., 14., 16., 18., 20., 22., 24., 26.,\n",
      "        28., 30., 32., 34., 36., 38.], device='cuda:0')\n",
      "predictions: [1, 4, 6, 8, 10, 12, 14, 16, 18, 20, 22, 24, 26, 28, 30, 32, 33, 35, 38, 41]\n",
      "\n",
      "Loss:  0.4822978377342224\n",
      "input:  tensor([ 1.,  3.,  5.,  7.,  9., 11., 13., 15., 17., 19., 21., 23., 25., 27.,\n",
      "        29., 31., 33., 35., 37., 39.], device='cuda:0')\n",
      "predictions: [2, 3, 6, 9, 11, 13, 15, 17, 19, 21, 23, 25, 28, 29, 31, 32, 34, 36, 39, 42]\n",
      "\n"
     ]
    }
   ],
   "source": [
    "# Test with every other number sequences\n",
    "def train_eo(rnn, n_steps, print_every):\n",
    "    \n",
    "    # init hidden state\n",
    "    hidden = None\n",
    "    \n",
    "    seq_repeat_step = 10\n",
    "    seq_step = -1\n",
    "    \n",
    "    for step in range(n_steps):\n",
    "        \n",
    "        if step % seq_repeat_step == 0:\n",
    "            seq_step = 0\n",
    "        else:\n",
    "            seq_step += 1\n",
    "        \n",
    "        for is_even_test in range(2): # train with even and uneven sequences as well\n",
    "\n",
    "            # define train data\n",
    "            data_start = seq_length * seq_step * 2 + is_even_test\n",
    "            data = np.arange(data_start, (data_start + seq_length) * 2 + 1, 2)\n",
    "            data.resize(seq_length + 1, 1)\n",
    "\n",
    "            inputs = torch.Tensor(data[:-1]).unsqueeze(0).cuda()\n",
    "            targets = torch.Tensor(data[1:]).cuda()\n",
    "\n",
    "            # Output from rnn\n",
    "            prediction, hidden = rnn(inputs, hidden)\n",
    "            hidden = hidden.data\n",
    "\n",
    "            loss = criterion(prediction, targets)\n",
    "            optimizer.zero_grad()\n",
    "            loss.backward()\n",
    "            optimizer.step()\n",
    "\n",
    "            if step % print_every == 0:\n",
    "                print('Loss: ', loss.item())\n",
    "                print('input: ', inputs.flatten()) # input\n",
    "                print(f'predictions: {[int(round(x)) for x in prediction.flatten().cpu().data.numpy()]}\\n') # predictions\n",
    "            \n",
    "    return rnn\n",
    "\n",
    "# decide on hyperparameters\n",
    "input_size=1 \n",
    "output_size=1\n",
    "hidden_dim=32\n",
    "n_layers=1\n",
    "\n",
    "rnn_even = RNN(input_size, output_size, hidden_dim, n_layers).cuda()\n",
    "print(rnn_even)\n",
    "\n",
    "# MSE loss and Adam optimizer with a learning rate of 0.01\n",
    "criterion = nn.MSELoss()\n",
    "optimizer = torch.optim.Adam(rnn_even.parameters(), lr=0.01) \n",
    "\n",
    "# train the rnn and monitor results\n",
    "n_steps = 250\n",
    "print_every = 50\n",
    "\n",
    "trained_rnn_eo = train_eo(rnn_even, n_steps, print_every)"
   ]
  },
  {
   "cell_type": "code",
   "execution_count": 73,
   "metadata": {},
   "outputs": [
    {
     "name": "stdout",
     "output_type": "stream",
     "text": [
      "input:  tensor([ 0.,  2.,  4.,  6.,  8., 10., 12., 14., 16., 18., 20., 22., 24., 26.,\n",
      "        28., 30., 32., 34., 36., 38.], device='cuda:0')\n",
      "output:  tensor([-3.2274,  6.1990,  9.0425, 12.1061, 15.1867, 18.0133, 20.5197, 22.7526,\n",
      "        24.4891, 25.7788, 27.0499, 28.6045, 30.4539, 32.4073, 34.2450, 35.8824,\n",
      "        37.3796, 38.9787, 41.1661, 44.5339], device='cuda:0')\n"
     ]
    }
   ],
   "source": [
    "with torch.no_grad():\n",
    "    test_data = torch.arange(0, 40, 2, dtype=torch.float32).view(1, -1, 1).cuda()\n",
    "    print('input: ', test_data.flatten())\n",
    "    out, hid = trained_rnn_eo(test_data, None)\n",
    "    print('output: ', out.flatten())"
   ]
  },
  {
   "cell_type": "code",
   "execution_count": null,
   "metadata": {},
   "outputs": [],
   "source": []
  }
 ],
 "metadata": {
  "kernelspec": {
   "display_name": "Python 3",
   "language": "python",
   "name": "python3"
  },
  "language_info": {
   "codemirror_mode": {
    "name": "ipython",
    "version": 3
   },
   "file_extension": ".py",
   "mimetype": "text/x-python",
   "name": "python",
   "nbconvert_exporter": "python",
   "pygments_lexer": "ipython3",
   "version": "3.7.0"
  }
 },
 "nbformat": 4,
 "nbformat_minor": 2
}
