{
 "cells": [
  {
   "cell_type": "code",
   "execution_count": 1,
   "metadata": {},
   "outputs": [],
   "source": [
    "%matplotlib tk\n",
    "import matplotlib as mpl\n",
    "import matplotlib.pyplot as plt\n",
    "\n",
    "import numpy as np\n",
    "\n",
    "import math\n",
    "\n",
    "plt.style.use(['dark_background'])"
   ]
  },
  {
   "cell_type": "code",
   "execution_count": 114,
   "metadata": {},
   "outputs": [
    {
     "name": "stdout",
     "output_type": "stream",
     "text": [
      "Door 0 results:\n",
      "duck score: 1.0, probability: 0.12\n",
      "beaver score: 3.0, probability: 0.87\n",
      "walrus score: -1.0, probability: 0.02\n",
      "Door 1 results:\n",
      "duck score: 3.0, probability: 0.12\n",
      "beaver score: 5.0, probability: 0.87\n",
      "walrus score: 1.0, probability: 0.02\n",
      "Door 2 results:\n",
      "duck score: 7.0, probability: 0.33\n",
      "beaver score: 7.0, probability: 0.33\n",
      "walrus score: 7.0, probability: 0.33\n",
      "Cross entropy: 14.06977216864503\n"
     ]
    }
   ],
   "source": [
    "def linear_combination(x, y, W, bias):\n",
    "    return (W[0] * x + W[1] * y + bias)[0]\n",
    "\n",
    "\n",
    "W = np.array([[4], [2]])\n",
    "BIAS = 1\n",
    "\n",
    "# X[i] = door; Inputs: X[i][0] = duck, X[i][1] = beaver, X[i][2] = walrus\n",
    "X = np.array([\n",
    "    [[-1, 2], [0, 1], [-1, 1]],\n",
    "    [[1, -1], [2, -2], [-2, 4]],\n",
    "    [[2, -1], [2, -1], [-1, 5]]\n",
    "])\n",
    "\n",
    "# Labels for X\n",
    "y = np.array([\n",
    "    [0, 0, 1], # beaver\n",
    "    [0, 0, 1], # beaver\n",
    "    [1, 0, 0]  # duck\n",
    "])\n",
    "INDEX_ANIMAL_DICT = {0: 'duck', 1: 'beaver', 2: 'walrus'}\n",
    "\n",
    "# Calculate probabilities of an animal encounter for each door(P[i] = door)\n",
    "P = np.zeros(X.shape[0:2]) \n",
    "for i, animals in enumerate(X):\n",
    "    print(f'Door {i} results:')\n",
    "    scores = np.zeros(X.shape[0]) # Scores of every animal for this door\n",
    "    smax_sum = 0 # softmax sums for this door\n",
    "    \n",
    "    for j, animal in enumerate(animals):\n",
    "        score = linear_combination(animal[0], animal[1], W, BIAS)\n",
    "        scores[j] = score\n",
    "        smax_sum += (math.e ** score)\n",
    "    \n",
    "    for j, score in enumerate(scores):\n",
    "        prob = round((math.e ** score / smax_sum), 2) # Calculated probability this animal(softmax)\n",
    "        P[i, j] = prob\n",
    "        print(f'{INDEX_ANIMAL_DICT[j]} score: {score}, probability: {prob}')\n",
    "        \n",
    "# Calculate the cross entropy\n",
    "cross_entropy = 0\n",
    "for labels, probs in zip(y, P):\n",
    "    for label, prob in zip(labels, probs):\n",
    "        cross_entropy += -math.log(prob if label == 1 else 1 - prob)\n",
    "\n",
    "print('Cross entropy:', cross_entropy)"
   ]
  },
  {
   "cell_type": "code",
   "execution_count": null,
   "metadata": {},
   "outputs": [],
   "source": []
  }
 ],
 "metadata": {
  "kernelspec": {
   "display_name": "Python 3",
   "language": "python",
   "name": "python3"
  },
  "language_info": {
   "codemirror_mode": {
    "name": "ipython",
    "version": 3
   },
   "file_extension": ".py",
   "mimetype": "text/x-python",
   "name": "python",
   "nbconvert_exporter": "python",
   "pygments_lexer": "ipython3",
   "version": "3.7.0"
  }
 },
 "nbformat": 4,
 "nbformat_minor": 2
}
