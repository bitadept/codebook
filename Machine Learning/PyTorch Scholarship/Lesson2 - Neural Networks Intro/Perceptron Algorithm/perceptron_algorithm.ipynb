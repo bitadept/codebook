{
 "cells": [
  {
   "cell_type": "code",
   "execution_count": 123,
   "metadata": {},
   "outputs": [],
   "source": [
    "%matplotlib tk\n",
    "# %matplotlib widget\n",
    "import matplotlib as mpl\n",
    "import matplotlib.pyplot as plt\n",
    "\n",
    "import numpy as np\n",
    "\n",
    "import csv\n",
    "\n",
    "plt.style.use(['dark_background'])"
   ]
  },
  {
   "cell_type": "code",
   "execution_count": 150,
   "metadata": {},
   "outputs": [],
   "source": [
    "# Gather points data\n",
    "input_file = np.genfromtxt ('data.csv', delimiter=\",\")\n",
    "X = input_file[:, [0, 1]] # coords\n",
    "y = input_file[:, 2] # labels\n",
    "\n",
    "LEARN_RATE = 0.01\n",
    "NUM_EPOCHS = 1000\n",
    "\n",
    "# Weights\n",
    "W = np.array([[0.20846054], [0.48168106]])\n",
    "b = 0.20846053735884262 + x_max\n",
    "\n",
    "Xx = X.T[0]\n",
    "Xy = X.T[1]\n",
    "x_min, x_max = min(Xx), max(Xx)\n",
    "y_min, y_max = min(Xy), max(Xy)\n",
    "\n",
    "fig, axs = plt.subplots()\n",
    "\n",
    "# Plot the points and label\n",
    "for i in range(len(X)):\n",
    "    axs.plot(X[i][0], X[i][1], 'bo' if y[i] == 1 else 'ro')\n",
    "\n",
    "for i in range(NUM_EPOCHS):\n",
    "    \n",
    "    # plt.pause(0.01)\n",
    "    \n",
    "    for j in range(len(X)):\n",
    "        \n",
    "        pred = int((np.matmul(X[j], W) + b)[0] >= 0)\n",
    "        \n",
    "        if y[j] - pred == 1:\n",
    "            W[0] += X[j][0] * LEARN_RATE\n",
    "            W[1] += X[j][1] * LEARN_RATE\n",
    "            b += LEARN_RATE\n",
    "        elif y[j] - pred == -1:\n",
    "            W[0] -= X[j][0] * LEARN_RATE\n",
    "            W[1] -= X[j][1] * LEARN_RATE\n",
    "            b -= LEARN_RATE\n",
    "\n",
    "    boundary_line_x = [x_min, x_max]\n",
    "    boundary_line_y = [-((W[0][0] * x_min + b) / W[1][0]) if W[1][0] != 0 else W[0][0] * x_min + b, -((W[0][0] * x_max + b) / W[1][0]) if W[1][0] != 0 else W[0][0] * x_max + b]\n",
    "    \n",
    "    if i < NUM_EPOCHS - 1:\n",
    "        axs.plot(boundary_line_x, boundary_line_y, 'g--', alpha = 0.2)\n",
    "    else: # last line\n",
    "        axs.plot(boundary_line_x, boundary_line_y, 'w-', alpha = 1)"
   ]
  },
  {
   "cell_type": "code",
   "execution_count": null,
   "metadata": {},
   "outputs": [],
   "source": []
  }
 ],
 "metadata": {
  "kernelspec": {
   "display_name": "Python 3",
   "language": "python",
   "name": "python3"
  },
  "language_info": {
   "codemirror_mode": {
    "name": "ipython",
    "version": 3
   },
   "file_extension": ".py",
   "mimetype": "text/x-python",
   "name": "python",
   "nbconvert_exporter": "python",
   "pygments_lexer": "ipython3",
   "version": "3.7.0"
  }
 },
 "nbformat": 4,
 "nbformat_minor": 2
}
