{
 "cells": [
  {
   "cell_type": "code",
   "execution_count": 1,
   "metadata": {},
   "outputs": [],
   "source": [
    "import numpy as np\n",
    "import math"
   ]
  },
  {
   "cell_type": "code",
   "execution_count": 13,
   "metadata": {},
   "outputs": [
    {
     "name": "stdout",
     "output_type": "stream",
     "text": [
      "Probabilities: [0.9  0.91 0.92 0.93 0.94 0.95 0.96 0.97 0.98 0.99]\n",
      "Cross entropy: 0.5703264401845766\n",
      "Error function result: 0.05703264401845766\n"
     ]
    }
   ],
   "source": [
    "P = np.linspace(0.9, 0.99, 10)\n",
    "print('Probabilities:', P)\n",
    "\n",
    "CE = -np.sum(np.log(P))\n",
    "print('Cross entropy:', CE)\n",
    "\n",
    "ERF = -((1/len(P)) * -CE)\n",
    "print('Error function result:', ERF)"
   ]
  },
  {
   "cell_type": "code",
   "execution_count": null,
   "metadata": {},
   "outputs": [],
   "source": []
  }
 ],
 "metadata": {
  "kernelspec": {
   "display_name": "Python 3",
   "language": "python",
   "name": "python3"
  },
  "language_info": {
   "codemirror_mode": {
    "name": "ipython",
    "version": 3
   },
   "file_extension": ".py",
   "mimetype": "text/x-python",
   "name": "python",
   "nbconvert_exporter": "python",
   "pygments_lexer": "ipython3",
   "version": "3.7.0"
  }
 },
 "nbformat": 4,
 "nbformat_minor": 2
}
