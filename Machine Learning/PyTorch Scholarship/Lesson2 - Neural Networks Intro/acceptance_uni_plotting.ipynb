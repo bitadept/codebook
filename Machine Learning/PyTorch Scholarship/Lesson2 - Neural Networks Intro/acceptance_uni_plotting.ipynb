{
 "cells": [
  {
   "cell_type": "code",
   "execution_count": 1,
   "metadata": {},
   "outputs": [],
   "source": [
    "%matplotlib widget\n",
    "import matplotlib as mpl\n",
    "import matplotlib.pyplot as plt\n",
    "import numpy as np\n",
    "\n",
    "plt.style.use(['dark_background'])"
   ]
  },
  {
   "cell_type": "code",
   "execution_count": 194,
   "metadata": {},
   "outputs": [
    {
     "data": {
      "application/vnd.jupyter.widget-view+json": {
       "model_id": "a82ad9839d8f4ddea6eaa421287b81a3",
       "version_major": 2,
       "version_minor": 0
      },
      "text/plain": [
       "FigureCanvasNbAgg()"
      ]
     },
     "metadata": {},
     "output_type": "display_data"
    },
    {
     "data": {
      "text/plain": [
       "[<matplotlib.lines.Line2D at 0x17146483b70>]"
      ]
     },
     "execution_count": 194,
     "metadata": {},
     "output_type": "execute_result"
    }
   ],
   "source": [
    "NUM_STUDENTS = 180\n",
    "\n",
    "TEST_WEIGHT = 2\n",
    "GRADES_WEIGHT = 1\n",
    "BIAS = -18\n",
    "\n",
    "TEST = 'test'\n",
    "GRADES = 'grades'\n",
    "ACCEPTED = 'accepted'\n",
    "\n",
    "fig, axs = plt.subplots()\n",
    "\n",
    "student_data = []\n",
    "for i in range(NUM_STUDENTS):\n",
    "    test = round(np.random.uniform(10), 2)\n",
    "    grades = round(np.random.uniform(10), 2)\n",
    "    student_data.append({TEST: test, GRADES: grades, ACCEPTED: TEST_WEIGHT * test + GRADES_WEIGHT * grades + BIAS >= 0})\n",
    "\n",
    "# print(student_data)\n",
    "\n",
    "for student in student_data:\n",
    "    color = 'bo' if student[ACCEPTED] == True else 'ro'\n",
    "    axs.plot(student[TEST], student[GRADES], color)\n",
    "    \n",
    "x = np.linspace(0, 12, 2)\n",
    "axs.plot(x, -((TEST_WEIGHT * x + BIAS) / GRADES_WEIGHT))"
   ]
  },
  {
   "cell_type": "code",
   "execution_count": null,
   "metadata": {},
   "outputs": [],
   "source": []
  }
 ],
 "metadata": {
  "kernelspec": {
   "display_name": "Python 3",
   "language": "python",
   "name": "python3"
  },
  "language_info": {
   "codemirror_mode": {
    "name": "ipython",
    "version": 3
   },
   "file_extension": ".py",
   "mimetype": "text/x-python",
   "name": "python",
   "nbconvert_exporter": "python",
   "pygments_lexer": "ipython3",
   "version": "3.7.0"
  }
 },
 "nbformat": 4,
 "nbformat_minor": 2
}
