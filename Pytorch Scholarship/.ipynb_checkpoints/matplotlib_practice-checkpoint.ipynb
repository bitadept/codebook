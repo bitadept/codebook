{
 "cells": [
  {
   "cell_type": "code",
   "execution_count": 10,
   "metadata": {},
   "outputs": [],
   "source": [
    "import matplotlib.pyplot as plt\n",
    "import numpy as np"
   ]
  },
  {
   "cell_type": "code",
   "execution_count": 6,
   "metadata": {},
   "outputs": [],
   "source": [
    "def func (x):\n",
    "    return 2 * x + 18\n",
    "\n",
    "# x = [(0, 0), (0, 1), (1, 0), (1, 1), (25,25)]\n",
    "# y = [x1[0] and x1[1] for x1 in x]\n",
    "x = [0, 1, 2, 3, 4, 5, 6, 7, 8, 9]\n",
    "y = [func(x) for x in x]\n",
    "plt.plot(x, y,'b-o', label='AND')\n",
    "plt.title('Graph of AND')\n",
    "plt.xlabel('x', color='white')\n",
    "plt.ylabel('y', color='white')\n",
    "#plt.legend(loc='upper left')\n",
    "plt.grid()\n",
    "plt.show()"
   ]
  }
 ],
 "metadata": {
  "kernelspec": {
   "display_name": "Python 3",
   "language": "python",
   "name": "python3"
  },
  "language_info": {
   "codemirror_mode": {
    "name": "ipython",
    "version": 3
   },
   "file_extension": ".py",
   "mimetype": "text/x-python",
   "name": "python",
   "nbconvert_exporter": "python",
   "pygments_lexer": "ipython3",
   "version": "3.7.0"
  }
 },
 "nbformat": 4,
 "nbformat_minor": 2
}
